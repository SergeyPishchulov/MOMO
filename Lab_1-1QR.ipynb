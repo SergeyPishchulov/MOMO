{
 "cells": [
  {
   "cell_type": "markdown",
   "metadata": {},
   "source": [
    "## Лабораторная работа 1: Алгоритмы разложения матриц. PCA.\n",
    "_Команда 2_ <br>\n",
    "_Винниченко, Карцева, Масалимова, Пищулов_\n",
    "### 1. Метод главных компонент\n",
    "##### Cингулярное матричные разложения"
   ]
  },
  {
   "cell_type": "code",
   "execution_count": 8,
   "metadata": {},
   "outputs": [],
   "source": [
    "import pandas as pd\n",
    "import numpy as np"
   ]
  },
  {
   "cell_type": "code",
   "execution_count": 9,
   "metadata": {},
   "outputs": [],
   "source": [
    "def QR(a):\n",
    "    b = np.array([np.transpose(a)[0]])\n",
    "    for i in range(1, len(np.transpose(a))):\n",
    "        proj_a = 0\n",
    "        for j in range(len(b)):\n",
    "            proj_a -=  (np.dot(np.transpose(a)[i], b[j])/np.dot(b[j], b[j])) * b[j]\n",
    "        b_el = np.transpose(a)[i] + proj_a\n",
    "        b = np.vstack([b, b_el])\n",
    "    for i in range(len(b)):\n",
    "        b[i] = b[i] / np.sqrt(np.dot(b[i],b[i]))\n",
    "    Q = -b\n",
    "    R = np.dot(Q, a)\n",
    "    return Q.T, R #Q - собственные вектора, R - собственные значения"
   ]
  },
  {
   "cell_type": "code",
   "execution_count": 10,
   "metadata": {},
   "outputs": [],
   "source": [
    "def cal_nullspace(A):\n",
    "    A = A.copy()\n",
    "    epsilon = 1e-9\n",
    "    A_shape = A.shape\n",
    "    \n",
    "    for i in range(A_shape[0] - 1):\n",
    "        if np.abs(A[i, i]) <= epsilon:\n",
    "            \n",
    "            for j in range(i+1, A_shape[0]):\n",
    "                if np.abs(A[j,i]) > epsilon:  \n",
    "                   \n",
    "                    A[j,:], A[i,:] = A[i],A[j,:]\n",
    "\n",
    "        if np.abs(A[i,i]) <= epsilon:\n",
    "       \n",
    "            continue\n",
    "\n",
    "        for j in range(i+1, A_shape[0]):\n",
    "\n",
    "            A[j,:] = A[j,:] -  1.0 * A[j,i]/A[i,i] * A[i,:];\n",
    "\n",
    "    for i in range(A_shape[0]):\n",
    "        if np.abs(A[i,i]) > epsilon:\n",
    "\n",
    "            A[i,:] = A[i,:] * (1.0/A[i,i]) \n",
    "    \n",
    "\n",
    "    free_eles = np.zeros(A_shape[0], dtype='int') \n",
    "    cn = 0\n",
    "    eigv = np.zeros(A_shape[0])\n",
    "    for i in range(A_shape[0]):\n",
    "        if np.abs(A[i,i]) < epsilon:\n",
    "            free_eles[cn] = i\n",
    "            cn += 1\n",
    "\n",
    "    if cn == 0:\n",
    "        return None\n",
    "\n",
    "    ns = np.zeros((A_shape[0], cn))\n",
    "\n",
    "    for i in range(cn):\n",
    "        ns[free_eles[i], i] = 1\n",
    "        for j in range(A_shape[0] - 1, -1, -1):\n",
    "            if np.abs(A[j,j]) > epsilon:\n",
    "                ns[j, i] = 0 - np.dot(A[j, j+1:], ns[j+1:, i])\n",
    "\n",
    "    if cn >= 2:   \n",
    "        q,r = QR(ns)\n",
    "        ns = q\n",
    "    else:\n",
    "        sq = np.sqrt(np.dot(ns[:,0], ns[:,0]))\n",
    "        ns /= sq\n",
    "        \n",
    "    return ns "
   ]
  },
  {
   "cell_type": "code",
   "execution_count": 11,
   "metadata": {},
   "outputs": [],
   "source": [
    "def eigen_qr_simple(A):\n",
    "    Ak = np.copy(A)\n",
    "    e = 1e-9\n",
    "    t = 0\n",
    "    while True:\n",
    "        Q, R = QR(Ak)\n",
    "        Ak = R @ Q\n",
    "        t = 0\n",
    "        for i in range(1, A.shape[1]):\n",
    "            for j in range(0,i):\n",
    "                t += np.abs(Ak[i,j])\n",
    "        if t <= e:\n",
    "            break\n",
    "    return np.diag(Ak)"
   ]
  },
  {
   "cell_type": "code",
   "execution_count": 12,
   "metadata": {},
   "outputs": [],
   "source": [
    "def eig(A):\n",
    "    eig_vals = np.sort(eigen_qr_simple(A))[::-1] \n",
    "    A_shape = A.shape\n",
    "    eig_vectors=np.zeros((A.shape[0], A.shape[0]))\n",
    "    preval = None\n",
    "    curid=0\n",
    "    for eigval in eig_vals:\n",
    "        if preval == eigval:\n",
    "            continue\n",
    "        A_eig = A - np.eye(A_shape[0]) * eigval\n",
    "        cur_vectors = cal_nullspace(A_eig)\n",
    "        preval = eigval\n",
    "    \n",
    "        for i in range(cur_vectors.shape[1]):\n",
    "            eig_vectors[:, curid] = cur_vectors[:, i]  \n",
    "            curid += 1\n",
    "\n",
    "    return (eig_vals,eig_vectors)"
   ]
  },
  {
   "cell_type": "code",
   "execution_count": 35,
   "metadata": {},
   "outputs": [
    {
     "data": {
      "text/plain": [
       "(array([-0.98293008+0.j        ,  0.24965626+0.j        ,\n",
       "         0.06456677+0.13273506j,  0.06456677-0.13273506j,\n",
       "        -0.18607132+0.j        ]),\n",
       " array([[ 0.36232315+0.j        , -0.91067857+0.j        ,\n",
       "          0.10223342-0.22306698j,  0.10223342+0.22306698j,\n",
       "         -0.51873913+0.j        ],\n",
       "        [ 0.55040413+0.j        , -0.00445332+0.j        ,\n",
       "         -0.29112652-0.17555076j, -0.29112652+0.17555076j,\n",
       "         -0.70319285+0.j        ],\n",
       "        [ 0.60702945+0.j        , -0.09656331+0.j        ,\n",
       "         -0.39773219+0.40191578j, -0.39773219-0.40191578j,\n",
       "         -0.04307497+0.j        ],\n",
       "        [ 0.30901346+0.j        , -0.38647573+0.j        ,\n",
       "          0.58434878+0.j        ,  0.58434878-0.j        ,\n",
       "         -0.28833869+0.j        ],\n",
       "        [ 0.31906607+0.j        , -0.10934691+0.j        ,\n",
       "          0.35823222-0.18626788j,  0.35823222+0.18626788j,\n",
       "          0.38914635+0.j        ]]))"
      ]
     },
     "execution_count": 35,
     "metadata": {},
     "output_type": "execute_result"
    }
   ],
   "source": [
    "np.linalg.eig(quad)"
   ]
  },
  {
   "cell_type": "code",
   "execution_count": 39,
   "metadata": {},
   "outputs": [
    {
     "ename": "KeyboardInterrupt",
     "evalue": "",
     "output_type": "error",
     "traceback": [
      "\u001b[0;31m---------------------------------------------------------------------------\u001b[0m",
      "\u001b[0;31mKeyboardInterrupt\u001b[0m                         Traceback (most recent call last)",
      "\u001b[1;32m/home/serhio/Data/1Education/MOMO/Lab_1-1QR.ipynb Cell 8\u001b[0m line \u001b[0;36m2\n\u001b[1;32m      <a href='vscode-notebook-cell:/home/serhio/Data/1Education/MOMO/Lab_1-1QR.ipynb#X43sZmlsZQ%3D%3D?line=0'>1</a>\u001b[0m quad \u001b[39m=\u001b[39m X[:\u001b[39m5\u001b[39m, :\u001b[39m5\u001b[39m]\n\u001b[0;32m----> <a href='vscode-notebook-cell:/home/serhio/Data/1Education/MOMO/Lab_1-1QR.ipynb#X43sZmlsZQ%3D%3D?line=1'>2</a>\u001b[0m eigen_qr_simple(quad)\n",
      "\u001b[1;32m/home/serhio/Data/1Education/MOMO/Lab_1-1QR.ipynb Cell 8\u001b[0m line \u001b[0;36m6\n\u001b[1;32m      <a href='vscode-notebook-cell:/home/serhio/Data/1Education/MOMO/Lab_1-1QR.ipynb#X43sZmlsZQ%3D%3D?line=3'>4</a>\u001b[0m t \u001b[39m=\u001b[39m \u001b[39m0\u001b[39m\n\u001b[1;32m      <a href='vscode-notebook-cell:/home/serhio/Data/1Education/MOMO/Lab_1-1QR.ipynb#X43sZmlsZQ%3D%3D?line=4'>5</a>\u001b[0m \u001b[39mwhile\u001b[39;00m \u001b[39mTrue\u001b[39;00m:\n\u001b[0;32m----> <a href='vscode-notebook-cell:/home/serhio/Data/1Education/MOMO/Lab_1-1QR.ipynb#X43sZmlsZQ%3D%3D?line=5'>6</a>\u001b[0m     Q, R \u001b[39m=\u001b[39m QR(Ak)\n\u001b[1;32m      <a href='vscode-notebook-cell:/home/serhio/Data/1Education/MOMO/Lab_1-1QR.ipynb#X43sZmlsZQ%3D%3D?line=6'>7</a>\u001b[0m     Ak \u001b[39m=\u001b[39m R \u001b[39m@\u001b[39m Q\n\u001b[1;32m      <a href='vscode-notebook-cell:/home/serhio/Data/1Education/MOMO/Lab_1-1QR.ipynb#X43sZmlsZQ%3D%3D?line=7'>8</a>\u001b[0m     t \u001b[39m=\u001b[39m \u001b[39m0\u001b[39m\n",
      "\u001b[1;32m/home/serhio/Data/1Education/MOMO/Lab_1-1QR.ipynb Cell 8\u001b[0m line \u001b[0;36m1\n\u001b[1;32m      <a href='vscode-notebook-cell:/home/serhio/Data/1Education/MOMO/Lab_1-1QR.ipynb#X43sZmlsZQ%3D%3D?line=7'>8</a>\u001b[0m     b \u001b[39m=\u001b[39m np\u001b[39m.\u001b[39mvstack([b, b_el])\n\u001b[1;32m      <a href='vscode-notebook-cell:/home/serhio/Data/1Education/MOMO/Lab_1-1QR.ipynb#X43sZmlsZQ%3D%3D?line=8'>9</a>\u001b[0m \u001b[39mfor\u001b[39;00m i \u001b[39min\u001b[39;00m \u001b[39mrange\u001b[39m(\u001b[39mlen\u001b[39m(b)):\n\u001b[0;32m---> <a href='vscode-notebook-cell:/home/serhio/Data/1Education/MOMO/Lab_1-1QR.ipynb#X43sZmlsZQ%3D%3D?line=9'>10</a>\u001b[0m     b[i] \u001b[39m=\u001b[39m b[i] \u001b[39m/\u001b[39m np\u001b[39m.\u001b[39msqrt(np\u001b[39m.\u001b[39mdot(b[i],b[i]))\n\u001b[1;32m     <a href='vscode-notebook-cell:/home/serhio/Data/1Education/MOMO/Lab_1-1QR.ipynb#X43sZmlsZQ%3D%3D?line=10'>11</a>\u001b[0m Q \u001b[39m=\u001b[39m \u001b[39m-\u001b[39mb\n\u001b[1;32m     <a href='vscode-notebook-cell:/home/serhio/Data/1Education/MOMO/Lab_1-1QR.ipynb#X43sZmlsZQ%3D%3D?line=11'>12</a>\u001b[0m R \u001b[39m=\u001b[39m np\u001b[39m.\u001b[39mdot(Q, a)\n",
      "\u001b[0;31mKeyboardInterrupt\u001b[0m: "
     ]
    }
   ],
   "source": [
    "quad = X[:5, :5]\n",
    "eigen_qr_simple(quad)"
   ]
  },
  {
   "cell_type": "code",
   "execution_count": null,
   "metadata": {},
   "outputs": [],
   "source": []
  },
  {
   "cell_type": "code",
   "execution_count": 30,
   "metadata": {},
   "outputs": [],
   "source": [
    "# np.testing.assert_almost_equal(svd(centred_data)[0], \n",
    "#                                np.linalg.svd(centred_data)[0], decimal=2)"
   ]
  },
  {
   "cell_type": "code",
   "execution_count": 42,
   "metadata": {},
   "outputs": [
    {
     "data": {
      "text/plain": [
       "array([[-0.46111554,  0.48168201,  0.56569187, -0.20426066,  0.44002863],\n",
       "       [-0.46910003,  0.28567739, -0.37579822,  0.74597541,  0.02509941],\n",
       "       [-0.58143707, -0.00543947, -0.48600098, -0.59973458, -0.25694907],\n",
       "       [-0.35733955, -0.29855902,  0.55004578,  0.18916193, -0.66696204],\n",
       "       [-0.3186801 , -0.77278962,  0.00459245,  0.0795894 ,  0.54303189]])"
      ]
     },
     "execution_count": 42,
     "metadata": {},
     "output_type": "execute_result"
    }
   ],
   "source": [
    "X= centred_data\n",
    "svd(quad)[0]"
   ]
  },
  {
   "cell_type": "code",
   "execution_count": 45,
   "metadata": {},
   "outputs": [
    {
     "data": {
      "text/plain": [
       "(345, 5)"
      ]
     },
     "execution_count": 45,
     "metadata": {},
     "output_type": "execute_result"
    }
   ],
   "source": [
    "X.shape"
   ]
  },
  {
   "cell_type": "code",
   "execution_count": 44,
   "metadata": {},
   "outputs": [
    {
     "data": {
      "text/plain": [
       "array([1115.35931591,   55.86368004,   30.25266797,   12.20380134,\n",
       "          7.21207157])"
      ]
     },
     "execution_count": 44,
     "metadata": {},
     "output_type": "execute_result"
    }
   ],
   "source": [
    "eig(X.T@X)[0]"
   ]
  },
  {
   "cell_type": "code",
   "execution_count": 13,
   "metadata": {},
   "outputs": [],
   "source": [
    "def svd(A, retSimple=False):\n",
    "    epsilon = 1e-4\n",
    "    A_shape = A.shape\n",
    "\n",
    "    e,v = eig(A.T @ A)\n",
    "    e_sqrt = np.sqrt(np.take(e, np.where(e > epsilon)[0]))\n",
    "    r = len(e_sqrt)\n",
    "\n",
    "    U = np.zeros((A_shape[0], A_shape[0]))  #m*m\n",
    "    S = np.zeros(A_shape)                   #m*n\n",
    "    V = np.zeros((A_shape[1], A_shape[1]))  #n*n\n",
    "\n",
    "    for i in range(r):\n",
    "        ui = np.dot(A, v[:,i])\n",
    "        ui = ui / np.sqrt(np.dot(ui, ui))\n",
    "        U[:,i] = ui\n",
    "\n",
    "        S[i,i] = e_sqrt[i]\n",
    "\n",
    "    if retSimple:\n",
    "        U = U[:, :r]\n",
    "        S = S[:r,:r]\n",
    "        V = v[:, :r].T\n",
    "    else:\n",
    "        if r < A_shape[0]:\n",
    "            ns = cal_nullspace(U.T) \n",
    "            U[:,r:] = ns\n",
    "        V = v.T\n",
    "\n",
    "    return (U,S,V)"
   ]
  },
  {
   "cell_type": "markdown",
   "metadata": {},
   "source": [
    "##### Представление набора данных"
   ]
  },
  {
   "cell_type": "markdown",
   "metadata": {},
   "source": [
    "Source: World Bank Government Indicators  (Kaufmann et al. 2016)\n",
    "\n",
    "e_wbgi_vae -- voice and accountability (показатель, измеряющий различные аспекты\n",
    "политического процесса, гражданских свобод и политических прав)\n",
    "\n",
    "e_wbgi_cce -- control of corruption (показатель восприятия коррупции, традиционно определяемой\n",
    "как осуществление публичной власти ради частной выгоды)\n",
    "\n",
    "e_wbgi_gee -- government effectiveness (показатель качества\n",
    "предоставления государственных услуг, качество бюрократии, компетентность государственных служащих,\n",
    "независимость государственной службы от политического давления и доверие к правительству\n",
    "\n",
    "e_wbgi_rle -- rule of law (показатель успеха общества в развитии среды, в\n",
    "которой справедливые и предсказуемые правила составляют основу экономических и социальных взаимодействий и\n",
    "в которой права собственности защищены)\n",
    "\n",
    "e_wbgi_rqe -- regulatory quality (показатель распространенности недружественной к рынку политики\n",
    "такие как контроль над ценами или неадекватный банковский надзор, а также восприятие бремени\n",
    "вызванное чрезмерным регулированием в таких областях, как внешняя торговля и развитие бизнеса)\n",
    "\n",
    "Time period: 1996-2021 (exluding 1997, 1999, 2001)\n",
    "\n",
    "Sample: 15 post-Soviet countries"
   ]
  },
  {
   "cell_type": "code",
   "execution_count": 14,
   "metadata": {},
   "outputs": [
    {
     "name": "stdout",
     "output_type": "stream",
     "text": [
      "[[ 0.37129275 -0.48631014 -0.13632754 -0.16886377 -0.2760029 ]\n",
      " [ 0.18529275 -0.38731014 -0.34732754 -0.24686377 -0.3380029 ]\n",
      " [ 0.24529275 -0.37631014 -0.35732754 -0.26186377 -0.5660029 ]\n",
      " ...\n",
      " [ 1.58729275  1.26068986  1.35267246  1.41713623  1.5349971 ]\n",
      " [ 1.59929275  1.37168986  1.36667246  1.35213623  1.5029971 ]\n",
      " [ 1.63229275  1.41768986  1.37267246  1.53813623  1.6279971 ]]\n"
     ]
    }
   ],
   "source": [
    "#import data\n",
    "dataframe1 = pd.read_excel(\"data_lab1.xlsx\")\n",
    "#print(dataframe1)\n",
    "features = ['e_wbgi_vae', 'e_wbgi_cce', 'e_wbgi_gee', 'e_wbgi_rle', 'e_wbgi_rqe' ]\n",
    "df1 = dataframe1.loc[:, features].values\n",
    "\n",
    "#mean centering\n",
    "mean_values = np.mean(df1, axis = 0)\n",
    "centred_data = df1 - mean_values\n",
    "print(centred_data)"
   ]
  },
  {
   "cell_type": "markdown",
   "metadata": {},
   "source": [
    "##### Применение метода сингулярного разложения на данных"
   ]
  },
  {
   "cell_type": "code",
   "execution_count": 38,
   "metadata": {},
   "outputs": [
    {
     "data": {
      "text/plain": [
       "array([[ 0.37129275, -0.48631014, -0.13632754, -0.16886377, -0.2760029 ],\n",
       "       [ 0.18529275, -0.38731014, -0.34732754, -0.24686377, -0.3380029 ],\n",
       "       [ 0.24529275, -0.37631014, -0.35732754, -0.26186377, -0.5660029 ],\n",
       "       ...,\n",
       "       [ 1.58729275,  1.26068986,  1.35267246,  1.41713623,  1.5349971 ],\n",
       "       [ 1.59929275,  1.37168986,  1.36667246,  1.35213623,  1.5029971 ],\n",
       "       [ 1.63229275,  1.41768986,  1.37267246,  1.53813623,  1.6279971 ]])"
      ]
     },
     "execution_count": 38,
     "metadata": {},
     "output_type": "execute_result"
    }
   ],
   "source": [
    "U, S, V = svd(centred_data)\n",
    "U @ S @ V "
   ]
  },
  {
   "cell_type": "markdown",
   "metadata": {},
   "source": [
    "##### Преимущества и недостатки применения сингулярного и спектрального разложения к задачам PCA"
   ]
  },
  {
   "cell_type": "code",
   "execution_count": 16,
   "metadata": {},
   "outputs": [
    {
     "data": {
      "text/plain": [
       "array([[ 0.51995133, -0.6869939 ,  0.43011235,  0.18549511, -0.19566533],\n",
       "       [ 0.37667795,  0.5547068 ,  0.52207325, -0.467948  , -0.24264848],\n",
       "       [ 0.37364593,  0.38051867, -0.32565004,  0.62861473, -0.4630225 ],\n",
       "       [ 0.51521436, -0.1684128 , -0.65441618, -0.52670928,  0.02254097],\n",
       "       [ 0.42744265,  0.21721515,  0.09019093,  0.27209758,  0.8294208 ]])"
      ]
     },
     "execution_count": 16,
     "metadata": {},
     "output_type": "execute_result"
    }
   ],
   "source": [
    "V.T"
   ]
  },
  {
   "cell_type": "code",
   "execution_count": 17,
   "metadata": {
    "scrolled": false
   },
   "outputs": [
    {
     "data": {
      "text/plain": [
       "array([[3.24232359, 0.        , 0.        , 0.        , 0.        ],\n",
       "       [0.        , 0.16239442, 0.        , 0.        , 0.        ],\n",
       "       [0.        , 0.        , 0.0879438 , 0.        , 0.        ],\n",
       "       ...,\n",
       "       [0.        , 0.        , 0.        , 0.        , 0.        ],\n",
       "       [0.        , 0.        , 0.        , 0.        , 0.        ],\n",
       "       [0.        , 0.        , 0.        , 0.        , 0.        ]])"
      ]
     },
     "execution_count": 17,
     "metadata": {},
     "output_type": "execute_result"
    }
   ],
   "source": [
    "explained_variances = (S ** 2) / (len(centred_data) - 1)\n",
    "explained_variances"
   ]
  },
  {
   "cell_type": "markdown",
   "metadata": {},
   "source": [
    "##### Определение числа компонент, визуализация данных, анализ полученных компонент"
   ]
  },
  {
   "cell_type": "code",
   "execution_count": 18,
   "metadata": {},
   "outputs": [],
   "source": [
    "cumulative_explained_variance = np.cumsum(explained_variances)\n",
    "cumulative_explained_variance_ratio = cumulative_explained_variance / np.sum(explained_variances)"
   ]
  },
  {
   "cell_type": "code",
   "execution_count": 19,
   "metadata": {},
   "outputs": [
    {
     "ename": "NameError",
     "evalue": "name 'plt' is not defined",
     "output_type": "error",
     "traceback": [
      "\u001b[0;31m---------------------------------------------------------------------------\u001b[0m",
      "\u001b[0;31mNameError\u001b[0m                                 Traceback (most recent call last)",
      "\u001b[1;32m/home/serhio/Data/1Education/MOMO/Lab_1-1QR.ipynb Cell 18\u001b[0m line \u001b[0;36m1\n\u001b[0;32m----> <a href='vscode-notebook-cell:/home/serhio/Data/1Education/MOMO/Lab_1-1QR.ipynb#X23sZmlsZQ%3D%3D?line=0'>1</a>\u001b[0m plt\u001b[39m.\u001b[39mfigure(figsize\u001b[39m=\u001b[39m(\u001b[39m8\u001b[39m, \u001b[39m6\u001b[39m))\n\u001b[1;32m      <a href='vscode-notebook-cell:/home/serhio/Data/1Education/MOMO/Lab_1-1QR.ipynb#X23sZmlsZQ%3D%3D?line=1'>2</a>\u001b[0m plt\u001b[39m.\u001b[39mplot(cumulative_explained_variance_ratio, marker\u001b[39m=\u001b[39m\u001b[39m'\u001b[39m\u001b[39mo\u001b[39m\u001b[39m'\u001b[39m)\n\u001b[1;32m      <a href='vscode-notebook-cell:/home/serhio/Data/1Education/MOMO/Lab_1-1QR.ipynb#X23sZmlsZQ%3D%3D?line=2'>3</a>\u001b[0m plt\u001b[39m.\u001b[39mxlabel(\u001b[39m'\u001b[39m\u001b[39mКоличество компонент\u001b[39m\u001b[39m'\u001b[39m)\n",
      "\u001b[0;31mNameError\u001b[0m: name 'plt' is not defined"
     ]
    }
   ],
   "source": [
    "plt.figure(figsize=(8, 6))\n",
    "plt.plot(cumulative_explained_variance_ratio, marker='o')\n",
    "plt.xlabel('Количество компонент')\n",
    "plt.ylabel('Кумулятивная объясненная дисперсия')\n",
    "plt.title('Кумулятивная объясненная дисперсия')\n",
    "plt.show()\n"
   ]
  },
  {
   "cell_type": "code",
   "execution_count": null,
   "metadata": {},
   "outputs": [],
   "source": [
    "num_components = np.argmax(cumulative_explained_variance_ratio >= 0.95) + 1\n",
    "\n",
    "# Шаг 3: Визуализация данных в новом пространстве компонент\n",
    "PC_matrix_selected = PC_matrix[:, :num_components] \n",
    "transformed_data = np.dot(X, PC_matrix_selected)"
   ]
  },
  {
   "cell_type": "markdown",
   "metadata": {},
   "source": [
    "##### Дополнительное задание"
   ]
  },
  {
   "cell_type": "code",
   "execution_count": null,
   "metadata": {},
   "outputs": [],
   "source": []
  },
  {
   "cell_type": "markdown",
   "metadata": {},
   "source": [
    "### 2. Kernel PCA"
   ]
  },
  {
   "cell_type": "markdown",
   "metadata": {},
   "source": [
    "##### Представление набора данных"
   ]
  },
  {
   "cell_type": "code",
   "execution_count": null,
   "metadata": {},
   "outputs": [],
   "source": []
  },
  {
   "cell_type": "markdown",
   "metadata": {},
   "source": [
    "##### Реализация методов вычисления матрицы для различных ядер  и её последующего спектрального разложения"
   ]
  },
  {
   "cell_type": "code",
   "execution_count": null,
   "metadata": {},
   "outputs": [],
   "source": []
  },
  {
   "cell_type": "markdown",
   "metadata": {},
   "source": [
    "##### Сравнительный анализ применения PCA и Kernel PCA"
   ]
  },
  {
   "cell_type": "code",
   "execution_count": null,
   "metadata": {},
   "outputs": [],
   "source": []
  }
 ],
 "metadata": {
  "kernelspec": {
   "display_name": "Python 3 (ipykernel)",
   "language": "python",
   "name": "python3"
  },
  "language_info": {
   "codemirror_mode": {
    "name": "ipython",
    "version": 3
   },
   "file_extension": ".py",
   "mimetype": "text/x-python",
   "name": "python",
   "nbconvert_exporter": "python",
   "pygments_lexer": "ipython3",
   "version": "3.10.12"
  }
 },
 "nbformat": 4,
 "nbformat_minor": 2
}
