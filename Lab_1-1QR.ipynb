{
 "cells": [
  {
   "cell_type": "markdown",
   "metadata": {},
   "source": [
    "## Лабораторная работа 1: Алгоритмы разложения матриц. PCA.\n",
    "_Команда 2_ <br>\n",
    "_Винниченко, Карцева, Масалимова, Пищулов_\n",
    "### 1. Метод главных компонент\n",
    "##### Cингулярное матричные разложения"
   ]
  },
  {
   "cell_type": "code",
   "execution_count": 61,
   "metadata": {},
   "outputs": [],
   "source": [
    "import pandas as pd\n",
    "import numpy as np\n",
    "from sklearn.decomposition import PCA\n",
    "import matplotlib.pyplot as plt"
   ]
  },
  {
   "cell_type": "code",
   "execution_count": 62,
   "metadata": {},
   "outputs": [],
   "source": [
    "def QR(a):\n",
    "    b = np.array([np.transpose(a)[0]])\n",
    "    for i in range(1, len(np.transpose(a))):\n",
    "        proj_a = 0\n",
    "        for j in range(len(b)):\n",
    "            proj_a -=  (np.dot(np.transpose(a)[i], b[j])/np.dot(b[j], b[j])) * b[j]\n",
    "        b_el = np.transpose(a)[i] + proj_a\n",
    "        b = np.vstack([b, b_el])\n",
    "    for i in range(len(b)):\n",
    "        b[i] = b[i] / np.sqrt(np.dot(b[i],b[i]))\n",
    "    Q = -b\n",
    "    R = np.dot(Q, a)\n",
    "    return Q.T, R #Q - собственные вектора, R - собственные значения"
   ]
  },
  {
   "cell_type": "code",
   "execution_count": 63,
   "metadata": {},
   "outputs": [],
   "source": [
    "def cal_nullspace(A):\n",
    "    A = A.copy()\n",
    "    epsilon = 1e-9\n",
    "    A_shape = A.shape\n",
    "    \n",
    "    for i in range(A_shape[0] - 1):\n",
    "        if np.abs(A[i, i]) <= epsilon:\n",
    "            \n",
    "            for j in range(i+1, A_shape[0]):\n",
    "                if np.abs(A[j,i]) > epsilon:  \n",
    "                   \n",
    "                    A[j,:], A[i,:] = A[i],A[j,:]\n",
    "\n",
    "        if np.abs(A[i,i]) <= epsilon:\n",
    "       \n",
    "            continue\n",
    "\n",
    "        for j in range(i+1, A_shape[0]):\n",
    "\n",
    "            A[j,:] = A[j,:] -  1.0 * A[j,i]/A[i,i] * A[i,:];\n",
    "\n",
    "    for i in range(A_shape[0]):\n",
    "        if np.abs(A[i,i]) > epsilon:\n",
    "\n",
    "            A[i,:] = A[i,:] * (1.0/A[i,i]) \n",
    "    \n",
    "\n",
    "    free_eles = np.zeros(A_shape[0], dtype='int') \n",
    "    cn = 0\n",
    "    eigv = np.zeros(A_shape[0])\n",
    "    for i in range(A_shape[0]):\n",
    "        if np.abs(A[i,i]) < epsilon:\n",
    "            free_eles[cn] = i\n",
    "            cn += 1\n",
    "\n",
    "    if cn == 0:\n",
    "        return None\n",
    "\n",
    "    ns = np.zeros((A_shape[0], cn))\n",
    "\n",
    "    for i in range(cn):\n",
    "        ns[free_eles[i], i] = 1\n",
    "        for j in range(A_shape[0] - 1, -1, -1):\n",
    "            if np.abs(A[j,j]) > epsilon:\n",
    "                ns[j, i] = 0 - np.dot(A[j, j+1:], ns[j+1:, i])\n",
    "\n",
    "    if cn >= 2:   \n",
    "        q,r = QR(ns)\n",
    "        ns = q\n",
    "    else:\n",
    "        sq = np.sqrt(np.dot(ns[:,0], ns[:,0]))\n",
    "        ns /= sq\n",
    "        \n",
    "    return ns "
   ]
  },
  {
   "cell_type": "code",
   "execution_count": 64,
   "metadata": {},
   "outputs": [],
   "source": [
    "def eigen_qr_simple(A):\n",
    "    Ak = np.copy(A)\n",
    "    e = 1e-9\n",
    "    t = 0\n",
    "    while True:\n",
    "        Q, R = QR(Ak)\n",
    "        Ak = R @ Q\n",
    "        t = 0\n",
    "        for i in range(1, A.shape[1]):\n",
    "            for j in range(0,i):\n",
    "                t += np.abs(Ak[i,j])\n",
    "        if t <= e:\n",
    "            break\n",
    "    return np.diag(Ak)"
   ]
  },
  {
   "cell_type": "code",
   "execution_count": 65,
   "metadata": {},
   "outputs": [],
   "source": [
    "def eig(A):\n",
    "    eig_vals = np.sort(eigen_qr_simple(A))[::-1] \n",
    "    A_shape = A.shape\n",
    "    eig_vectors=np.zeros((A.shape[0], A.shape[0]))\n",
    "    preval = None\n",
    "    curid=0\n",
    "    for eigval in eig_vals:\n",
    "        if preval == eigval:\n",
    "            continue\n",
    "        A_eig = A - np.eye(A_shape[0]) * eigval\n",
    "        cur_vectors = cal_nullspace(A_eig)\n",
    "        preval = eigval\n",
    "    \n",
    "        for i in range(cur_vectors.shape[1]):\n",
    "            eig_vectors[:, curid] = cur_vectors[:, i]  \n",
    "            curid += 1\n",
    "\n",
    "    return (eig_vals,eig_vectors)"
   ]
  },
  {
   "cell_type": "code",
   "execution_count": 66,
   "metadata": {},
   "outputs": [
    {
     "data": {
      "text/plain": [
       "(array([-0.98293008+0.j        ,  0.24965626+0.j        ,\n",
       "         0.06456677+0.13273506j,  0.06456677-0.13273506j,\n",
       "        -0.18607132+0.j        ]),\n",
       " array([[ 0.36232315+0.j        , -0.91067857+0.j        ,\n",
       "          0.10223342-0.22306698j,  0.10223342+0.22306698j,\n",
       "         -0.51873913+0.j        ],\n",
       "        [ 0.55040413+0.j        , -0.00445332+0.j        ,\n",
       "         -0.29112652-0.17555076j, -0.29112652+0.17555076j,\n",
       "         -0.70319285+0.j        ],\n",
       "        [ 0.60702945+0.j        , -0.09656331+0.j        ,\n",
       "         -0.39773219+0.40191578j, -0.39773219-0.40191578j,\n",
       "         -0.04307497+0.j        ],\n",
       "        [ 0.30901346+0.j        , -0.38647573+0.j        ,\n",
       "          0.58434878+0.j        ,  0.58434878-0.j        ,\n",
       "         -0.28833869+0.j        ],\n",
       "        [ 0.31906607+0.j        , -0.10934691+0.j        ,\n",
       "          0.35823222-0.18626788j,  0.35823222+0.18626788j,\n",
       "          0.38914635+0.j        ]]))"
      ]
     },
     "execution_count": 66,
     "metadata": {},
     "output_type": "execute_result"
    }
   ],
   "source": [
    "np.linalg.eig(quad)"
   ]
  },
  {
   "cell_type": "code",
   "execution_count": 67,
   "metadata": {},
   "outputs": [],
   "source": [
    "def svd(A, retSimple=False):\n",
    "    epsilon = 1e-4\n",
    "    A_shape = A.shape\n",
    "\n",
    "    e,v = eig(A.T @ A)\n",
    "    e_sqrt = np.sqrt(np.take(e, np.where(e > epsilon)[0]))\n",
    "    r = len(e_sqrt)\n",
    "\n",
    "    U = np.zeros((A_shape[0], A_shape[0]))  #m*m\n",
    "    S = np.zeros(A_shape)                   #m*n\n",
    "    V = np.zeros((A_shape[1], A_shape[1]))  #n*n\n",
    "\n",
    "    for i in range(r):\n",
    "        ui = np.dot(A, v[:,i])\n",
    "        ui = ui / np.sqrt(np.dot(ui, ui))\n",
    "        U[:,i] = ui\n",
    "\n",
    "        S[i,i] = e_sqrt[i]\n",
    "\n",
    "    if retSimple:\n",
    "        U = U[:, :r]\n",
    "        S = S[:r,:r]\n",
    "        V = v[:, :r].T\n",
    "    else:\n",
    "        if r < A_shape[0]:\n",
    "            ns = cal_nullspace(U.T) \n",
    "            U[:,r:] = ns\n",
    "        V = v.T\n",
    "\n",
    "    return (U,S,V)"
   ]
  },
  {
   "cell_type": "markdown",
   "metadata": {},
   "source": [
    "##### Представление набора данных"
   ]
  },
  {
   "cell_type": "markdown",
   "metadata": {},
   "source": [
    "Source: World Bank Government Indicators  (Kaufmann et al. 2016)\n",
    "\n",
    "e_wbgi_vae -- voice and accountability (показатель, измеряющий различные аспекты\n",
    "политического процесса, гражданских свобод и политических прав)\n",
    "\n",
    "e_wbgi_cce -- control of corruption (показатель восприятия коррупции, традиционно определяемой\n",
    "как осуществление публичной власти ради частной выгоды)\n",
    "\n",
    "e_wbgi_gee -- government effectiveness (показатель качества\n",
    "предоставления государственных услуг, качество бюрократии, компетентность государственных служащих,\n",
    "независимость государственной службы от политического давления и доверие к правительству\n",
    "\n",
    "e_wbgi_rle -- rule of law (показатель успеха общества в развитии среды, в\n",
    "которой справедливые и предсказуемые правила составляют основу экономических и социальных взаимодействий и\n",
    "в которой права собственности защищены)\n",
    "\n",
    "e_wbgi_rqe -- regulatory quality (показатель распространенности недружественной к рынку политики\n",
    "такие как контроль над ценами или неадекватный банковский надзор, а также восприятие бремени\n",
    "вызванное чрезмерным регулированием в таких областях, как внешняя торговля и развитие бизнеса)\n",
    "\n",
    "Time period: 1996-2021 (exluding 1997, 1999, 2001)\n",
    "\n",
    "Sample: 15 post-Soviet countries"
   ]
  },
  {
   "cell_type": "code",
   "execution_count": 68,
   "metadata": {},
   "outputs": [
    {
     "name": "stdout",
     "output_type": "stream",
     "text": [
      "[[ 0.37129275 -0.48631014 -0.13632754 -0.16886377 -0.2760029 ]\n",
      " [ 0.18529275 -0.38731014 -0.34732754 -0.24686377 -0.3380029 ]\n",
      " [ 0.24529275 -0.37631014 -0.35732754 -0.26186377 -0.5660029 ]\n",
      " ...\n",
      " [ 1.58729275  1.26068986  1.35267246  1.41713623  1.5349971 ]\n",
      " [ 1.59929275  1.37168986  1.36667246  1.35213623  1.5029971 ]\n",
      " [ 1.63229275  1.41768986  1.37267246  1.53813623  1.6279971 ]]\n"
     ]
    }
   ],
   "source": [
    "#import data\n",
    "dataframe1 = pd.read_excel(\"data_lab1.xlsx\")\n",
    "#print(dataframe1)\n",
    "features = ['e_wbgi_vae', 'e_wbgi_cce', 'e_wbgi_gee', 'e_wbgi_rle', 'e_wbgi_rqe' ]\n",
    "df1 = dataframe1.loc[:, features].values\n",
    "\n",
    "#mean centering\n",
    "mean_values = np.mean(df1, axis = 0)\n",
    "centred_data = df1 - mean_values\n",
    "print(centred_data)"
   ]
  },
  {
   "cell_type": "markdown",
   "metadata": {},
   "source": [
    "##### Применение метода сингулярного разложения на данных"
   ]
  },
  {
   "cell_type": "code",
   "execution_count": 69,
   "metadata": {},
   "outputs": [
    {
     "data": {
      "text/plain": [
       "array([[ 0.37129275, -0.48631014, -0.13632754, -0.16886377, -0.2760029 ],\n",
       "       [ 0.18529275, -0.38731014, -0.34732754, -0.24686377, -0.3380029 ],\n",
       "       [ 0.24529275, -0.37631014, -0.35732754, -0.26186377, -0.5660029 ],\n",
       "       ...,\n",
       "       [ 1.58729275,  1.26068986,  1.35267246,  1.41713623,  1.5349971 ],\n",
       "       [ 1.59929275,  1.37168986,  1.36667246,  1.35213623,  1.5029971 ],\n",
       "       [ 1.63229275,  1.41768986,  1.37267246,  1.53813623,  1.6279971 ]])"
      ]
     },
     "execution_count": 69,
     "metadata": {},
     "output_type": "execute_result"
    }
   ],
   "source": [
    "U, S, V = svd(centred_data)\n",
    "U @ S @ V "
   ]
  },
  {
   "cell_type": "code",
   "execution_count": 70,
   "metadata": {},
   "outputs": [
    {
     "data": {
      "text/plain": [
       "0    0.913561\n",
       "1    0.045756\n",
       "2    0.024779\n",
       "3    0.009996\n",
       "4    0.005907\n",
       "dtype: float64"
      ]
     },
     "execution_count": 70,
     "metadata": {},
     "output_type": "execute_result"
    }
   ],
   "source": [
    "from collections import defaultdict\n",
    "\n",
    "\n",
    "def get_pca(x):\n",
    "    centered = x - x.mean(axis=0)\n",
    "    n, m = centered.shape\n",
    "    y = centered/np.sqrt(n-1)\n",
    "    _, sigma, vh = svd(y)\n",
    "    # print(f'sigma: {sigma}')\n",
    "    # c = y.T@y\n",
    "    pr_components = vh.T\n",
    "    return pr_components\n",
    "\n",
    "pcs = get_pca(X)\n",
    "t = X[0]  # first object\n",
    "sum_distances_by_pc = defaultdict(int)\n",
    "for pc_num, pc in enumerate(pcs.T):\n",
    "    for obj in X:\n",
    "        projection = pc@obj\n",
    "        sum_distances_by_pc[pc_num] += projection**2\n",
    "\n",
    "vars = pd.Series(sum_distances_by_pc, index=sorted(list(sum_distances_by_pc.keys())))\n",
    "vars /= sum(vars)\n",
    "vars"
   ]
  },
  {
   "cell_type": "code",
   "execution_count": 71,
   "metadata": {},
   "outputs": [
    {
     "data": {
      "text/plain": [
       "(345, 2)"
      ]
     },
     "execution_count": 71,
     "metadata": {},
     "output_type": "execute_result"
    }
   ],
   "source": [
    "selected_pcs = pcs[:, :2]\n",
    "# selected_pcs\n",
    "transformed = X@selected_pcs\n",
    "transformed.shape"
   ]
  },
  {
   "cell_type": "code",
   "execution_count": 72,
   "metadata": {},
   "outputs": [
    {
     "name": "stdout",
     "output_type": "stream",
     "text": [
      "[0.91356135 0.04575646]\n"
     ]
    },
    {
     "data": {
      "text/plain": [
       "<matplotlib.legend.Legend at 0x7f15d20e4370>"
      ]
     },
     "execution_count": 72,
     "metadata": {},
     "output_type": "execute_result"
    },
    {
     "data": {
      "image/png": "[encoded data removed]",
      "text/plain": [
       "<Figure size 640x480 with 1 Axes>"
      ]
     },
     "metadata": {},
     "output_type": "display_data"
    }
   ],
   "source": [
    "sk_pca = PCA(n_components=2)\n",
    "\n",
    "sk_pca.fit(X)\n",
    "print(sk_pca.explained_variance_ratio_)\n",
    "\n",
    "sk_transformed = sk_pca.transform(X)\n",
    "plt.scatter(x=transformed[:, 0], y=transformed[:, 1])\n",
    "plt.scatter(x=sk_transformed[:, 0], y=sk_transformed[:, 1]+0.02)\n",
    "plt.legend(['ours', 'sklearn'])"
   ]
  },
  {
   "cell_type": "markdown",
   "metadata": {},
   "source": [
    "##### Преимущества и недостатки применения сингулярного и спектрального разложения к задачам PCA"
   ]
  },
  {
   "cell_type": "code",
   "execution_count": 73,
   "metadata": {},
   "outputs": [
    {
     "data": {
      "text/plain": [
       "array([[ 0.51995133, -0.6869939 ,  0.43011235,  0.18549511, -0.19566533],\n",
       "       [ 0.37667795,  0.5547068 ,  0.52207325, -0.467948  , -0.24264848],\n",
       "       [ 0.37364593,  0.38051867, -0.32565004,  0.62861473, -0.4630225 ],\n",
       "       [ 0.51521436, -0.1684128 , -0.65441618, -0.52670928,  0.02254097],\n",
       "       [ 0.42744265,  0.21721515,  0.09019093,  0.27209758,  0.8294208 ]])"
      ]
     },
     "execution_count": 73,
     "metadata": {},
     "output_type": "execute_result"
    }
   ],
   "source": [
    "V.T"
   ]
  },
  {
   "cell_type": "code",
   "execution_count": 74,
   "metadata": {
    "scrolled": false
   },
   "outputs": [
    {
     "data": {
      "text/plain": [
       "array([[3.24232359, 0.        , 0.        , 0.        , 0.        ],\n",
       "       [0.        , 0.16239442, 0.        , 0.        , 0.        ],\n",
       "       [0.        , 0.        , 0.0879438 , 0.        , 0.        ],\n",
       "       ...,\n",
       "       [0.        , 0.        , 0.        , 0.        , 0.        ],\n",
       "       [0.        , 0.        , 0.        , 0.        , 0.        ],\n",
       "       [0.        , 0.        , 0.        , 0.        , 0.        ]])"
      ]
     },
     "execution_count": 74,
     "metadata": {},
     "output_type": "execute_result"
    }
   ],
   "source": [
    "explained_variances = (S ** 2) / (len(centred_data) - 1)\n",
    "explained_variances"
   ]
  },
  {
   "cell_type": "markdown",
   "metadata": {},
   "source": [
    "##### Определение числа компонент, визуализация данных, анализ полученных компонент"
   ]
  },
  {
   "cell_type": "code",
   "execution_count": 75,
   "metadata": {},
   "outputs": [],
   "source": [
    "cumulative_explained_variance = np.cumsum(explained_variances)\n",
    "cumulative_explained_variance_ratio = cumulative_explained_variance / np.sum(explained_variances)"
   ]
  },
  {
   "cell_type": "code",
   "execution_count": 76,
   "metadata": {},
   "outputs": [
    {
     "data": {
      "image/png": "[encoded data removed]",
      "text/plain": [
       "<Figure size 800x600 with 1 Axes>"
      ]
     },
     "metadata": {},
     "output_type": "display_data"
    }
   ],
   "source": [
    "plt.figure(figsize=(8, 6))\n",
    "plt.plot(cumulative_explained_variance_ratio, marker='o')\n",
    "plt.xlabel('Количество компонент')\n",
    "plt.ylabel('Кумулятивная объясненная дисперсия')\n",
    "plt.title('Кумулятивная объясненная дисперсия')\n",
    "plt.show()\n"
   ]
  },
  {
   "cell_type": "code",
   "execution_count": 77,
   "metadata": {},
   "outputs": [
    {
     "ename": "NameError",
     "evalue": "name 'PC_matrix' is not defined",
     "output_type": "error",
     "traceback": [
      "\u001b[0;31m---------------------------------------------------------------------------\u001b[0m",
      "\u001b[0;31mNameError\u001b[0m                                 Traceback (most recent call last)",
      "\u001b[1;32m/home/serhio/Data/1Education/MOMO/Lab_1-1QR.ipynb Cell 23\u001b[0m line \u001b[0;36m4\n\u001b[1;32m      <a href='vscode-notebook-cell:/home/serhio/Data/1Education/MOMO/Lab_1-1QR.ipynb#X24sZmlsZQ%3D%3D?line=0'>1</a>\u001b[0m num_components \u001b[39m=\u001b[39m np\u001b[39m.\u001b[39margmax(cumulative_explained_variance_ratio \u001b[39m>\u001b[39m\u001b[39m=\u001b[39m \u001b[39m0.95\u001b[39m) \u001b[39m+\u001b[39m \u001b[39m1\u001b[39m\n\u001b[1;32m      <a href='vscode-notebook-cell:/home/serhio/Data/1Education/MOMO/Lab_1-1QR.ipynb#X24sZmlsZQ%3D%3D?line=2'>3</a>\u001b[0m \u001b[39m# Шаг 3: Визуализация данных в новом пространстве компонент\u001b[39;00m\n\u001b[0;32m----> <a href='vscode-notebook-cell:/home/serhio/Data/1Education/MOMO/Lab_1-1QR.ipynb#X24sZmlsZQ%3D%3D?line=3'>4</a>\u001b[0m PC_matrix_selected \u001b[39m=\u001b[39m PC_matrix[:, :num_components] \n\u001b[1;32m      <a href='vscode-notebook-cell:/home/serhio/Data/1Education/MOMO/Lab_1-1QR.ipynb#X24sZmlsZQ%3D%3D?line=4'>5</a>\u001b[0m transformed_data \u001b[39m=\u001b[39m np\u001b[39m.\u001b[39mdot(X, PC_matrix_selected)\n",
      "\u001b[0;31mNameError\u001b[0m: name 'PC_matrix' is not defined"
     ]
    }
   ],
   "source": [
    "num_components = np.argmax(cumulative_explained_variance_ratio >= 0.95) + 1\n",
    "\n",
    "# Шаг 3: Визуализация данных в новом пространстве компонент\n",
    "PC_matrix_selected = PC_matrix[:, :num_components] \n",
    "transformed_data = np.dot(X, PC_matrix_selected)"
   ]
  },
  {
   "cell_type": "markdown",
   "metadata": {},
   "source": [
    "##### Дополнительное задание"
   ]
  },
  {
   "cell_type": "code",
   "execution_count": null,
   "metadata": {},
   "outputs": [],
   "source": []
  },
  {
   "cell_type": "markdown",
   "metadata": {},
   "source": [
    "### 2. Kernel PCA"
   ]
  },
  {
   "cell_type": "markdown",
   "metadata": {},
   "source": [
    "##### Представление набора данных"
   ]
  },
  {
   "cell_type": "code",
   "execution_count": null,
   "metadata": {},
   "outputs": [],
   "source": []
  },
  {
   "cell_type": "markdown",
   "metadata": {},
   "source": [
    "##### Реализация методов вычисления матрицы для различных ядер  и её последующего спектрального разложения"
   ]
  },
  {
   "cell_type": "code",
   "execution_count": null,
   "metadata": {},
   "outputs": [],
   "source": []
  },
  {
   "cell_type": "markdown",
   "metadata": {},
   "source": [
    "##### Сравнительный анализ применения PCA и Kernel PCA"
   ]
  },
  {
   "cell_type": "code",
   "execution_count": null,
   "metadata": {},
   "outputs": [],
   "source": []
  }
 ],
 "metadata": {
  "kernelspec": {
   "display_name": "Python 3 (ipykernel)",
   "language": "python",
   "name": "python3"
  },
  "language_info": {
   "codemirror_mode": {
    "name": "ipython",
    "version": 3
   },
   "file_extension": ".py",
   "mimetype": "text/x-python",
   "name": "python",
   "nbconvert_exporter": "python",
   "pygments_lexer": "ipython3",
   "version": "3.10.12"
  }
 },
 "nbformat": 4,
 "nbformat_minor": 2
}
